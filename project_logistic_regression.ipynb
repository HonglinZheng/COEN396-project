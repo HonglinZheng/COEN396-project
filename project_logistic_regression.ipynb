{
  "nbformat": 4,
  "nbformat_minor": 0,
  "metadata": {
    "colab": {
      "provenance": []
    },
    "kernelspec": {
      "name": "python3",
      "display_name": "Python 3"
    },
    "language_info": {
      "name": "python"
    }
  },
  "cells": [
    {
      "cell_type": "code",
      "execution_count": 11,
      "metadata": {
        "id": "QjK0f0myFV6Q"
      },
      "outputs": [],
      "source": [
        "import pandas as pd\n",
        "import numpy as np\n",
        "import os \n",
        "from sklearn.model_selection import train_test_split\n",
        "from sklearn.linear_model import LogisticRegression\n",
        "from sklearn.metrics import confusion_matrix, accuracy_score, recall_score, precision_score, f1_score\n",
        "from sklearn.metrics import classification_report\n",
        "from mpl_toolkits.mplot3d import Axes3D\n",
        "from sklearn.preprocessing import StandardScaler\n",
        "import matplotlib.pyplot as plt"
      ]
    },
    {
      "cell_type": "code",
      "source": [
        "# thursday = pd.read_csv('Thursday-WorkingHours-Morning-WebAttacks.pcap_ISCX.csv',low_memory = False)\n",
        "# thursday = thursday.rename(str.lstrip, axis='columns')"
      ],
      "metadata": {
        "id": "GzTDJoIxGnjO"
      },
      "execution_count": 2,
      "outputs": []
    },
    {
      "cell_type": "code",
      "source": [
        "# # data preprocessing\n",
        "# os.chdir(r\"C:\\Users\\Kael\\Desktop\\MachineLearningCVE-20230501T005316Z-001\\MachineLearningCVE\")\n",
        "# pd.set_option('display.max_columns', None)\n",
        "# pd.set_option('display.max_rows', None)\n",
        "# nRowsRead = None \n",
        "# pd.set_option('display.max_columns', None)\n",
        "# pd.set_option('display.max_rows', None)\n",
        "# nRowsRead = None \n",
        "\n",
        "# df6 = pd.read_csv(\"Thursday-WorkingHours-Morning-WebAttacks.pcap_ISCX.csv\")\n",
        "\n",
        "# df = pd.concat([df6,df6])\n",
        "# del df6\n",
        "\n",
        "# nRow, nCol = df.shape"
      ],
      "metadata": {
        "id": "l_xZ-a7DSBbp"
      },
      "execution_count": 3,
      "outputs": []
    },
    {
      "cell_type": "code",
      "source": [
        "df = pd.read_csv('Thursday-WorkingHours-Morning-WebAttacks.pcap_ISCX.csv',low_memory = False)"
      ],
      "metadata": {
        "id": "oD8nnf89WDUg"
      },
      "execution_count": 4,
      "outputs": []
    },
    {
      "cell_type": "code",
      "source": [
        "#change the variable types for low memory usage\n",
        "#int64 to int32,,, float64 to float32\n",
        "integer = []\n",
        "f = []\n",
        "for i in df.columns[:-1]:\n",
        "    if df[i].dtype == \"int64\": integer.append(i)\n",
        "    else : f.append(i)\n",
        "\n",
        "df[integer] = df[integer].astype(\"int32\")\n",
        "df[f] = df[f].astype(\"float32\")"
      ],
      "metadata": {
        "id": "3IOK3vBGU64G"
      },
      "execution_count": 5,
      "outputs": []
    },
    {
      "cell_type": "code",
      "source": [
        "df.columns =  df.columns.str.strip()\n",
        "# drop nan and infinite rows\n",
        "df = df[~df.isin([np.nan, np.inf, -np.inf]).any(axis=1)]\n",
        "# merging similar classes with low instances\n",
        "df[\"Label\"] = df[\"Label\"].replace([\"Web Attack: Brute Force\",\"Web Attack: XSS\",\"Web Attack: Sql Injection\"],\"Web Attack\")\n",
        "# drop duplicate rows\n",
        "df =  df.drop_duplicates(keep=\"first\")\n",
        "df.reset_index(drop=True,inplace=True)"
      ],
      "metadata": {
        "id": "NKrdfySiVBmA",
        "colab": {
          "base_uri": "https://localhost:8080/"
        },
        "outputId": "5da670f4-843b-438c-f22d-1dbf1429407b"
      },
      "execution_count": 6,
      "outputs": [
        {
          "output_type": "stream",
          "name": "stderr",
          "text": [
            "<ipython-input-6-e62fcfcd661e>:5: SettingWithCopyWarning: \n",
            "A value is trying to be set on a copy of a slice from a DataFrame.\n",
            "Try using .loc[row_indexer,col_indexer] = value instead\n",
            "\n",
            "See the caveats in the documentation: https://pandas.pydata.org/pandas-docs/stable/user_guide/indexing.html#returning-a-view-versus-a-copy\n",
            "  df[\"Label\"] = df[\"Label\"].replace([\"Web Attack: Brute Force\",\"Web Attack: XSS\",\"Web Attack: Sql Injection\"],\"Web Attack\")\n"
          ]
        }
      ]
    },
    {
      "cell_type": "code",
      "source": [
        "#feature reduction \n",
        "#dropping very high correlated features \n",
        "numeric_columns = df.select_dtypes(include=[np.number])\n",
        "\n",
        "corr_matrix = numeric_columns.corr().abs()\n",
        "\n",
        "# Select upper triangle of correlation matrix\n",
        "upper = corr_matrix.where(np.triu(np.ones(corr_matrix.shape), k=1).astype(np.bool))\n",
        "\n",
        "# Find features with correlation greater than 0.95\n",
        "to_drop = [column for column in upper.columns if any(upper[column] > 0.95)]\n",
        "\n",
        "# Drop features \n",
        "df =  df.drop(to_drop, axis=1)\n",
        "df.shape\n",
        "\n",
        "##############################################################################"
      ],
      "metadata": {
        "id": "DxyLypDsVMV1",
        "colab": {
          "base_uri": "https://localhost:8080/"
        },
        "outputId": "fcf673b1-fa00-4180-a910-f48bc387ff1b"
      },
      "execution_count": 7,
      "outputs": [
        {
          "output_type": "stream",
          "name": "stderr",
          "text": [
            "<ipython-input-7-563e00f0e2d2>:8: DeprecationWarning: `np.bool` is a deprecated alias for the builtin `bool`. To silence this warning, use `bool` by itself. Doing this will not modify any behavior and is safe. If you specifically wanted the numpy scalar type, use `np.bool_` here.\n",
            "Deprecated in NumPy 1.20; for more details and guidance: https://numpy.org/devdocs/release/1.20.0-notes.html#deprecations\n",
            "  upper = corr_matrix.where(np.triu(np.ones(corr_matrix.shape), k=1).astype(np.bool))\n"
          ]
        },
        {
          "output_type": "execute_result",
          "data": {
            "text/plain": [
              "(164179, 54)"
            ]
          },
          "metadata": {},
          "execution_count": 7
        }
      ]
    },
    {
      "cell_type": "code",
      "source": [
        "pd.set_option('display.max_columns', None)\n",
        "pd.set_option('display.max_rows', None)\n",
        "df.head(1)"
      ],
      "metadata": {
        "colab": {
          "base_uri": "https://localhost:8080/",
          "height": 197
        },
        "id": "F2_gb4YSPAly",
        "outputId": "097c19e1-d80f-460e-b357-9320789afb4a"
      },
      "execution_count": 18,
      "outputs": [
        {
          "output_type": "execute_result",
          "data": {
            "text/plain": [
              "   Destination Port  Flow Duration  Total Fwd Packets  \\\n",
              "0               389      113095465                 48   \n",
              "\n",
              "   Total Length of Fwd Packets  Fwd Packet Length Max  Fwd Packet Length Min  \\\n",
              "0                         9668                    403                      0   \n",
              "\n",
              "   Fwd Packet Length Mean  Fwd Packet Length Std  Bwd Packet Length Max  \\\n",
              "0              201.416672             203.548294                    923   \n",
              "\n",
              "   Bwd Packet Length Min  Bwd Packet Length Mean  Bwd Packet Length Std  \\\n",
              "0                    316              417.166656             231.080948   \n",
              "\n",
              "   Flow Bytes/s  Flow Packets/s  Flow IAT Mean  Flow IAT Std  Flow IAT Max  \\\n",
              "0    174.012283         0.63663    1592893.875     4597264.5      16500000   \n",
              "\n",
              "   Flow IAT Min  Fwd IAT Mean  Fwd IAT Std  Bwd IAT Mean  Bwd IAT Std  \\\n",
              "0             3     2406286.5    5491986.0     4917177.5    7084368.5   \n",
              "\n",
              "   Bwd IAT Max  Fwd PSH Flags  Bwd PSH Flags  Fwd URG Flags  Bwd URG Flags  \\\n",
              "0     16500000              1              0              0              0   \n",
              "\n",
              "   Bwd Packets/s  Min Packet Length  Max Packet Length  Packet Length Mean  \\\n",
              "0        0.21221                  0                923          275.109589   \n",
              "\n",
              "   Packet Length Variance  FIN Flag Count  RST Flag Count  PSH Flag Count  \\\n",
              "0            54677.988281               0               0               0   \n",
              "\n",
              "   ACK Flag Count  URG Flag Count  CWE Flag Count  Down/Up Ratio  \\\n",
              "0               1               0               0              0   \n",
              "\n",
              "   Fwd Avg Bytes/Bulk  Fwd Avg Packets/Bulk  Fwd Avg Bulk Rate  \\\n",
              "0                   0                     0                  0   \n",
              "\n",
              "   Bwd Avg Bytes/Bulk  Bwd Avg Packets/Bulk  Bwd Avg Bulk Rate  \\\n",
              "0                   0                     0                  0   \n",
              "\n",
              "   Init_Win_bytes_forward  Init_Win_bytes_backward  min_seg_size_forward  \\\n",
              "0                     571                     2079                    32   \n",
              "\n",
              "   Active Mean  Active Std  Active Max  Active Min   Idle Std   Label  \n",
              "0     203985.5   575837.25     1629110         379  4277541.0  BENIGN  "
            ],
            "text/html": [
              "\n",
              "  <div id=\"df-fd96bcda-f3bf-40e3-a984-3fd216d3741c\">\n",
              "    <div class=\"colab-df-container\">\n",
              "      <div>\n",
              "<style scoped>\n",
              "    .dataframe tbody tr th:only-of-type {\n",
              "        vertical-align: middle;\n",
              "    }\n",
              "\n",
              "    .dataframe tbody tr th {\n",
              "        vertical-align: top;\n",
              "    }\n",
              "\n",
              "    .dataframe thead th {\n",
              "        text-align: right;\n",
              "    }\n",
              "</style>\n",
              "<table border=\"1\" class=\"dataframe\">\n",
              "  <thead>\n",
              "    <tr style=\"text-align: right;\">\n",
              "      <th></th>\n",
              "      <th>Destination Port</th>\n",
              "      <th>Flow Duration</th>\n",
              "      <th>Total Fwd Packets</th>\n",
              "      <th>Total Length of Fwd Packets</th>\n",
              "      <th>Fwd Packet Length Max</th>\n",
              "      <th>Fwd Packet Length Min</th>\n",
              "      <th>Fwd Packet Length Mean</th>\n",
              "      <th>Fwd Packet Length Std</th>\n",
              "      <th>Bwd Packet Length Max</th>\n",
              "      <th>Bwd Packet Length Min</th>\n",
              "      <th>Bwd Packet Length Mean</th>\n",
              "      <th>Bwd Packet Length Std</th>\n",
              "      <th>Flow Bytes/s</th>\n",
              "      <th>Flow Packets/s</th>\n",
              "      <th>Flow IAT Mean</th>\n",
              "      <th>Flow IAT Std</th>\n",
              "      <th>Flow IAT Max</th>\n",
              "      <th>Flow IAT Min</th>\n",
              "      <th>Fwd IAT Mean</th>\n",
              "      <th>Fwd IAT Std</th>\n",
              "      <th>Bwd IAT Mean</th>\n",
              "      <th>Bwd IAT Std</th>\n",
              "      <th>Bwd IAT Max</th>\n",
              "      <th>Fwd PSH Flags</th>\n",
              "      <th>Bwd PSH Flags</th>\n",
              "      <th>Fwd URG Flags</th>\n",
              "      <th>Bwd URG Flags</th>\n",
              "      <th>Bwd Packets/s</th>\n",
              "      <th>Min Packet Length</th>\n",
              "      <th>Max Packet Length</th>\n",
              "      <th>Packet Length Mean</th>\n",
              "      <th>Packet Length Variance</th>\n",
              "      <th>FIN Flag Count</th>\n",
              "      <th>RST Flag Count</th>\n",
              "      <th>PSH Flag Count</th>\n",
              "      <th>ACK Flag Count</th>\n",
              "      <th>URG Flag Count</th>\n",
              "      <th>CWE Flag Count</th>\n",
              "      <th>Down/Up Ratio</th>\n",
              "      <th>Fwd Avg Bytes/Bulk</th>\n",
              "      <th>Fwd Avg Packets/Bulk</th>\n",
              "      <th>Fwd Avg Bulk Rate</th>\n",
              "      <th>Bwd Avg Bytes/Bulk</th>\n",
              "      <th>Bwd Avg Packets/Bulk</th>\n",
              "      <th>Bwd Avg Bulk Rate</th>\n",
              "      <th>Init_Win_bytes_forward</th>\n",
              "      <th>Init_Win_bytes_backward</th>\n",
              "      <th>min_seg_size_forward</th>\n",
              "      <th>Active Mean</th>\n",
              "      <th>Active Std</th>\n",
              "      <th>Active Max</th>\n",
              "      <th>Active Min</th>\n",
              "      <th>Idle Std</th>\n",
              "      <th>Label</th>\n",
              "    </tr>\n",
              "  </thead>\n",
              "  <tbody>\n",
              "    <tr>\n",
              "      <th>0</th>\n",
              "      <td>389</td>\n",
              "      <td>113095465</td>\n",
              "      <td>48</td>\n",
              "      <td>9668</td>\n",
              "      <td>403</td>\n",
              "      <td>0</td>\n",
              "      <td>201.416672</td>\n",
              "      <td>203.548294</td>\n",
              "      <td>923</td>\n",
              "      <td>316</td>\n",
              "      <td>417.166656</td>\n",
              "      <td>231.080948</td>\n",
              "      <td>174.012283</td>\n",
              "      <td>0.63663</td>\n",
              "      <td>1592893.875</td>\n",
              "      <td>4597264.5</td>\n",
              "      <td>16500000</td>\n",
              "      <td>3</td>\n",
              "      <td>2406286.5</td>\n",
              "      <td>5491986.0</td>\n",
              "      <td>4917177.5</td>\n",
              "      <td>7084368.5</td>\n",
              "      <td>16500000</td>\n",
              "      <td>1</td>\n",
              "      <td>0</td>\n",
              "      <td>0</td>\n",
              "      <td>0</td>\n",
              "      <td>0.21221</td>\n",
              "      <td>0</td>\n",
              "      <td>923</td>\n",
              "      <td>275.109589</td>\n",
              "      <td>54677.988281</td>\n",
              "      <td>0</td>\n",
              "      <td>0</td>\n",
              "      <td>0</td>\n",
              "      <td>1</td>\n",
              "      <td>0</td>\n",
              "      <td>0</td>\n",
              "      <td>0</td>\n",
              "      <td>0</td>\n",
              "      <td>0</td>\n",
              "      <td>0</td>\n",
              "      <td>0</td>\n",
              "      <td>0</td>\n",
              "      <td>0</td>\n",
              "      <td>571</td>\n",
              "      <td>2079</td>\n",
              "      <td>32</td>\n",
              "      <td>203985.5</td>\n",
              "      <td>575837.25</td>\n",
              "      <td>1629110</td>\n",
              "      <td>379</td>\n",
              "      <td>4277541.0</td>\n",
              "      <td>BENIGN</td>\n",
              "    </tr>\n",
              "  </tbody>\n",
              "</table>\n",
              "</div>\n",
              "      <button class=\"colab-df-convert\" onclick=\"convertToInteractive('df-fd96bcda-f3bf-40e3-a984-3fd216d3741c')\"\n",
              "              title=\"Convert this dataframe to an interactive table.\"\n",
              "              style=\"display:none;\">\n",
              "        \n",
              "  <svg xmlns=\"http://www.w3.org/2000/svg\" height=\"24px\"viewBox=\"0 0 24 24\"\n",
              "       width=\"24px\">\n",
              "    <path d=\"M0 0h24v24H0V0z\" fill=\"none\"/>\n",
              "    <path d=\"M18.56 5.44l.94 2.06.94-2.06 2.06-.94-2.06-.94-.94-2.06-.94 2.06-2.06.94zm-11 1L8.5 8.5l.94-2.06 2.06-.94-2.06-.94L8.5 2.5l-.94 2.06-2.06.94zm10 10l.94 2.06.94-2.06 2.06-.94-2.06-.94-.94-2.06-.94 2.06-2.06.94z\"/><path d=\"M17.41 7.96l-1.37-1.37c-.4-.4-.92-.59-1.43-.59-.52 0-1.04.2-1.43.59L10.3 9.45l-7.72 7.72c-.78.78-.78 2.05 0 2.83L4 21.41c.39.39.9.59 1.41.59.51 0 1.02-.2 1.41-.59l7.78-7.78 2.81-2.81c.8-.78.8-2.07 0-2.86zM5.41 20L4 18.59l7.72-7.72 1.47 1.35L5.41 20z\"/>\n",
              "  </svg>\n",
              "      </button>\n",
              "      \n",
              "  <style>\n",
              "    .colab-df-container {\n",
              "      display:flex;\n",
              "      flex-wrap:wrap;\n",
              "      gap: 12px;\n",
              "    }\n",
              "\n",
              "    .colab-df-convert {\n",
              "      background-color: #E8F0FE;\n",
              "      border: none;\n",
              "      border-radius: 50%;\n",
              "      cursor: pointer;\n",
              "      display: none;\n",
              "      fill: #1967D2;\n",
              "      height: 32px;\n",
              "      padding: 0 0 0 0;\n",
              "      width: 32px;\n",
              "    }\n",
              "\n",
              "    .colab-df-convert:hover {\n",
              "      background-color: #E2EBFA;\n",
              "      box-shadow: 0px 1px 2px rgba(60, 64, 67, 0.3), 0px 1px 3px 1px rgba(60, 64, 67, 0.15);\n",
              "      fill: #174EA6;\n",
              "    }\n",
              "\n",
              "    [theme=dark] .colab-df-convert {\n",
              "      background-color: #3B4455;\n",
              "      fill: #D2E3FC;\n",
              "    }\n",
              "\n",
              "    [theme=dark] .colab-df-convert:hover {\n",
              "      background-color: #434B5C;\n",
              "      box-shadow: 0px 1px 3px 1px rgba(0, 0, 0, 0.15);\n",
              "      filter: drop-shadow(0px 1px 2px rgba(0, 0, 0, 0.3));\n",
              "      fill: #FFFFFF;\n",
              "    }\n",
              "  </style>\n",
              "\n",
              "      <script>\n",
              "        const buttonEl =\n",
              "          document.querySelector('#df-fd96bcda-f3bf-40e3-a984-3fd216d3741c button.colab-df-convert');\n",
              "        buttonEl.style.display =\n",
              "          google.colab.kernel.accessAllowed ? 'block' : 'none';\n",
              "\n",
              "        async function convertToInteractive(key) {\n",
              "          const element = document.querySelector('#df-fd96bcda-f3bf-40e3-a984-3fd216d3741c');\n",
              "          const dataTable =\n",
              "            await google.colab.kernel.invokeFunction('convertToInteractive',\n",
              "                                                     [key], {});\n",
              "          if (!dataTable) return;\n",
              "\n",
              "          const docLinkHtml = 'Like what you see? Visit the ' +\n",
              "            '<a target=\"_blank\" href=https://colab.research.google.com/notebooks/data_table.ipynb>data table notebook</a>'\n",
              "            + ' to learn more about interactive tables.';\n",
              "          element.innerHTML = '';\n",
              "          dataTable['output_type'] = 'display_data';\n",
              "          await google.colab.output.renderOutput(dataTable, element);\n",
              "          const docLink = document.createElement('div');\n",
              "          docLink.innerHTML = docLinkHtml;\n",
              "          element.appendChild(docLink);\n",
              "        }\n",
              "      </script>\n",
              "    </div>\n",
              "  </div>\n",
              "  "
            ]
          },
          "metadata": {},
          "execution_count": 18
        }
      ]
    },
    {
      "cell_type": "code",
      "source": [
        "features = df.iloc[:, :df.shape[1] - 1]\n",
        "labels = df.iloc[:, df.shape[1] - 1:]\n",
        "labels = labels.values.ravel()\n",
        "\n",
        "# df = pd.DataFrame(features)\n",
        "X_train, X_test, y_train, y_test = train_test_split(features, labels, train_size=0.8, test_size=0.2, stratify=labels)"
      ],
      "metadata": {
        "id": "CtPKraNZJDe7"
      },
      "execution_count": 9,
      "outputs": []
    },
    {
      "cell_type": "code",
      "source": [
        "model = LogisticRegression()\n",
        "model.fit(X_train, y_train)\n",
        "\n",
        "print(\"Score:\", model.score(X_train, y_train))"
      ],
      "metadata": {
        "colab": {
          "base_uri": "https://localhost:8080/"
        },
        "id": "2Js0Dd2DJo20",
        "outputId": "3751463e-f2cc-4dcc-e9f1-ccc5f10f0448"
      },
      "execution_count": 16,
      "outputs": [
        {
          "output_type": "stream",
          "name": "stderr",
          "text": [
            "/usr/local/lib/python3.10/dist-packages/sklearn/linear_model/_logistic.py:458: ConvergenceWarning: lbfgs failed to converge (status=1):\n",
            "STOP: TOTAL NO. of ITERATIONS REACHED LIMIT.\n",
            "\n",
            "Increase the number of iterations (max_iter) or scale the data as shown in:\n",
            "    https://scikit-learn.org/stable/modules/preprocessing.html\n",
            "Please also refer to the documentation for alternative solver options:\n",
            "    https://scikit-learn.org/stable/modules/linear_model.html#logistic-regression\n",
            "  n_iter_i = _check_optimize_result(\n"
          ]
        },
        {
          "output_type": "stream",
          "name": "stdout",
          "text": [
            "Score: 0.9914346405975195\n"
          ]
        }
      ]
    },
    {
      "cell_type": "code",
      "source": [
        "y_pred = model.predict(X_test)\n",
        "\n",
        "print(classification_report(y_test, y_pred))"
      ],
      "metadata": {
        "colab": {
          "base_uri": "https://localhost:8080/"
        },
        "id": "vJ4vm6YzZTLf",
        "outputId": "3421dd83-5cdf-4d99-ffa7-13b17e491050"
      },
      "execution_count": 17,
      "outputs": [
        {
          "output_type": "stream",
          "name": "stderr",
          "text": [
            "/usr/local/lib/python3.10/dist-packages/sklearn/metrics/_classification.py:1344: UndefinedMetricWarning: Precision and F-score are ill-defined and being set to 0.0 in labels with no predicted samples. Use `zero_division` parameter to control this behavior.\n",
            "  _warn_prf(average, modifier, msg_start, len(result))\n"
          ]
        },
        {
          "output_type": "stream",
          "name": "stdout",
          "text": [
            "                            precision    recall  f1-score   support\n",
            "\n",
            "                    BENIGN       1.00      1.00      1.00     32407\n",
            "  Web Attack � Brute Force       0.57      0.82      0.67       294\n",
            "Web Attack � Sql Injection       0.00      0.00      0.00         4\n",
            "          Web Attack � XSS       0.11      0.01      0.01       131\n",
            "\n",
            "                  accuracy                           0.99     32836\n",
            "                 macro avg       0.42      0.46      0.42     32836\n",
            "              weighted avg       0.99      0.99      0.99     32836\n",
            "\n"
          ]
        },
        {
          "output_type": "stream",
          "name": "stderr",
          "text": [
            "/usr/local/lib/python3.10/dist-packages/sklearn/metrics/_classification.py:1344: UndefinedMetricWarning: Precision and F-score are ill-defined and being set to 0.0 in labels with no predicted samples. Use `zero_division` parameter to control this behavior.\n",
            "  _warn_prf(average, modifier, msg_start, len(result))\n",
            "/usr/local/lib/python3.10/dist-packages/sklearn/metrics/_classification.py:1344: UndefinedMetricWarning: Precision and F-score are ill-defined and being set to 0.0 in labels with no predicted samples. Use `zero_division` parameter to control this behavior.\n",
            "  _warn_prf(average, modifier, msg_start, len(result))\n"
          ]
        }
      ]
    }
  ]
}